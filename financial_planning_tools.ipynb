{
 "cells": [
  {
   "cell_type": "markdown",
   "metadata": {},
   "source": [
    "# Financial Planning with APIs and Simulations\n",
    "\n",
    "In this Challenge, you’ll create two financial analysis tools by using a single Jupyter notebook:\n",
    "\n",
    "Part 1: A financial planner for emergencies. The members will be able to use this tool to visualize their current savings. The members can then determine if they have enough reserves for an emergency fund.\n",
    "\n",
    "Part 2: A financial planner for retirement. This tool will forecast the performance of their retirement portfolio in 30 years. To do this, the tool will make an Alpaca API call via the Alpaca SDK to get historical price data for use in Monte Carlo simulations.\n",
    "\n",
    "You’ll use the information from the Monte Carlo simulation to answer questions about the portfolio in your Jupyter notebook.\n",
    "\n"
   ]
  },
  {
   "cell_type": "code",
   "execution_count": 432,
   "metadata": {},
   "outputs": [],
   "source": [
    "# Import the required libraries and dependencies\n",
    "import os\n",
    "import requests\n",
    "import json\n",
    "import pandas as pd\n",
    "from dotenv import load_dotenv\n",
    "import alpaca_trade_api as tradeapi\n",
    "import numpy as np\n",
    "from MCForecastTools import MCSimulation\n",
    "\n",
    "%matplotlib inline"
   ]
  },
  {
   "cell_type": "code",
   "execution_count": 433,
   "metadata": {},
   "outputs": [
    {
     "data": {
      "text/plain": [
       "True"
      ]
     },
     "execution_count": 433,
     "metadata": {},
     "output_type": "execute_result"
    }
   ],
   "source": [
    "# Load the environment variables from the .env file\n",
    "#by calling the load_dotenv function\n",
    "load_dotenv()"
   ]
  },
  {
   "cell_type": "markdown",
   "metadata": {},
   "source": [
    "## Part 1: Create a Financial Planner for Emergencies"
   ]
  },
  {
   "cell_type": "markdown",
   "metadata": {},
   "source": [
    "### Evaluate the Cryptocurrency Wallet by Using the Requests Library\n",
    "\n",
    "In this section, you’ll determine the current value of a member’s cryptocurrency wallet. You’ll collect the current prices for the Bitcoin and Ethereum cryptocurrencies by using the Python Requests library. For the prototype, you’ll assume that the member holds the 1.2 Bitcoins (BTC) and 5.3 Ethereum coins (ETH). To do all this, complete the following steps:\n",
    "\n",
    "1. Create a variable named `monthly_income`, and set its value to `12000`.\n",
    "\n",
    "2. Use the Requests library to get the current price (in US dollars) of Bitcoin (BTC) and Ethereum (ETH) by using the API endpoints that the starter code supplies.\n",
    "\n",
    "3. Navigate the JSON response object to access the current price of each coin, and store each in a variable.\n",
    "\n",
    "    > **Hint** Note the specific identifier for each cryptocurrency in the API JSON response. The Bitcoin identifier is `1`, and the Ethereum identifier is `1027`.\n",
    "\n",
    "4. Calculate the value, in US dollars, of the current amount of each cryptocurrency and of the entire cryptocurrency wallet.\n",
    "\n"
   ]
  },
  {
   "cell_type": "code",
   "execution_count": 434,
   "metadata": {},
   "outputs": [],
   "source": [
    "# The current number of coins for each cryptocurrency asset held in the portfolio.\n",
    "btc_coins = 1.2\n",
    "eth_coins = 5.3"
   ]
  },
  {
   "cell_type": "markdown",
   "metadata": {},
   "source": [
    "#### Step 1: Create a variable named `monthly_income`, and set its value to `12000`."
   ]
  },
  {
   "cell_type": "code",
   "execution_count": 435,
   "metadata": {},
   "outputs": [],
   "source": [
    "# The monthly amount for the member's household income\n",
    "monthly_income = 12000\n"
   ]
  },
  {
   "cell_type": "markdown",
   "metadata": {},
   "source": [
    "#### Review the endpoint URLs for the API calls to Free Crypto API in order to get the current pricing information for both BTC and ETH."
   ]
  },
  {
   "cell_type": "code",
   "execution_count": 436,
   "metadata": {},
   "outputs": [],
   "source": [
    "# The Free Crypto API Call endpoint URLs for the held cryptocurrency assets\n",
    "btc_url = \"https://api.alternative.me/v2/ticker/Bitcoin/?convert=USD\"\n",
    "eth_url = \"https://api.alternative.me/v2/ticker/Ethereum/?convert=USD\""
   ]
  },
  {
   "cell_type": "markdown",
   "metadata": {},
   "source": [
    "#### Step 2. Use the Requests library to get the current price (in US dollars) of Bitcoin (BTC) and Ethereum (ETH) by using the API endpoints that the starter code supplied."
   ]
  },
  {
   "cell_type": "code",
   "execution_count": 437,
   "metadata": {},
   "outputs": [
    {
     "name": "stdout",
     "output_type": "stream",
     "text": [
      "{\n",
      "   \"data\": {\n",
      "      \"1\": {\n",
      "         \"circulating_supply\": 18950918,\n",
      "         \"id\": 1,\n",
      "         \"last_updated\": 1644208629,\n",
      "         \"max_supply\": 21000000,\n",
      "         \"name\": \"Bitcoin\",\n",
      "         \"quotes\": {\n",
      "            \"USD\": {\n",
      "               \"market_cap\": 813222205557,\n",
      "               \"percent_change_1h\": 0.0409036440621387,\n",
      "               \"percent_change_24h\": 3.25149636767268,\n",
      "               \"percent_change_7d\": 12.910504540652,\n",
      "               \"percentage_change_1h\": 0.0409036440621387,\n",
      "               \"percentage_change_24h\": 3.25149636767268,\n",
      "               \"percentage_change_7d\": 12.910504540652,\n",
      "               \"price\": 42887.0,\n",
      "               \"volume_24h\": 16137739454\n",
      "            }\n",
      "         },\n",
      "         \"rank\": 1,\n",
      "         \"symbol\": \"BTC\",\n",
      "         \"total_supply\": 18950918,\n",
      "         \"website_slug\": \"bitcoin\"\n",
      "      }\n",
      "   },\n",
      "   \"metadata\": {\n",
      "      \"error\": null,\n",
      "      \"num_cryptocurrencies\": 3105,\n",
      "      \"timestamp\": 1644208629\n",
      "   }\n",
      "}\n"
     ]
    }
   ],
   "source": [
    "# Using the Python requests library, make an API call to access the current price of BTC\n",
    "btc_response = requests.get(btc_url).json() # making the call to Alpaca APIs\n",
    "\n",
    "# Use the json.dumps function to review the response data from the API call\n",
    "# Use the indent and sort_keys parameters to make the response object readable\n",
    "print(json.dumps(btc_response, indent=3, sort_keys=True))\n"
   ]
  },
  {
   "cell_type": "code",
   "execution_count": 438,
   "metadata": {},
   "outputs": [
    {
     "name": "stdout",
     "output_type": "stream",
     "text": [
      "{\n",
      "   \"data\": {\n",
      "      \"1027\": {\n",
      "         \"circulating_supply\": 119477402,\n",
      "         \"id\": 1027,\n",
      "         \"last_updated\": 1644208651,\n",
      "         \"max_supply\": 0,\n",
      "         \"name\": \"Ethereum\",\n",
      "         \"quotes\": {\n",
      "            \"USD\": {\n",
      "               \"market_cap\": 368162891236,\n",
      "               \"percent_change_1h\": 0.530068090116131,\n",
      "               \"percent_change_24h\": 2.32805748297911,\n",
      "               \"percent_change_7d\": 18.1625209817506,\n",
      "               \"percentage_change_1h\": 0.530068090116131,\n",
      "               \"percentage_change_24h\": 2.32805748297911,\n",
      "               \"percentage_change_7d\": 18.1625209817506,\n",
      "               \"price\": 3084.26,\n",
      "               \"volume_24h\": 10551299016\n",
      "            }\n",
      "         },\n",
      "         \"rank\": 2,\n",
      "         \"symbol\": \"ETH\",\n",
      "         \"total_supply\": 119477402,\n",
      "         \"website_slug\": \"ethereum\"\n",
      "      }\n",
      "   },\n",
      "   \"metadata\": {\n",
      "      \"error\": null,\n",
      "      \"num_cryptocurrencies\": 3105,\n",
      "      \"timestamp\": 1644208651\n",
      "   }\n",
      "}\n"
     ]
    }
   ],
   "source": [
    "# Using the Python requests library, make an API call to access the current price ETH\n",
    "eth_response = requests.get(eth_url).json() # making the call to Alpaca APIs\n",
    "\n",
    "# Use the json.dumps function to review the response data from the API call\n",
    "# Use the indent and sort_keys parameters to make the response object readable\n",
    "print(json.dumps(eth_response, indent=3, sort_keys=True))\n"
   ]
  },
  {
   "cell_type": "markdown",
   "metadata": {},
   "source": [
    "#### Step 3: Navigate the JSON response object to access the current price of each coin, and store each in a variable."
   ]
  },
  {
   "cell_type": "code",
   "execution_count": 439,
   "metadata": {},
   "outputs": [
    {
     "name": "stdout",
     "output_type": "stream",
     "text": [
      "The price for Bitcoin is $42887.0\n"
     ]
    }
   ],
   "source": [
    "# Navigate the BTC response object to access the current price of BTC\n",
    "btc_price = btc_response['data']['1']['quotes']['USD']['price']\n",
    "\n",
    "# Print the current price of BTC\n",
    "print(f\"The price for Bitcoin is ${btc_price}\") \n"
   ]
  },
  {
   "cell_type": "code",
   "execution_count": 440,
   "metadata": {},
   "outputs": [
    {
     "name": "stdout",
     "output_type": "stream",
     "text": [
      "The price for Ethereum is $3084.26\n"
     ]
    }
   ],
   "source": [
    "# Navigate the BTC response object to access the current price of ETH\n",
    "eth_price = eth_response['data']['1027']['quotes']['USD']['price']\n",
    "\n",
    "# Print the current price of ETH\n",
    "print(f\"The price for Ethereum is ${eth_price}\") \n"
   ]
  },
  {
   "cell_type": "markdown",
   "metadata": {},
   "source": [
    "### Step 4: Calculate the value, in US dollars, of the current amount of each cryptocurrency and of the entire cryptocurrency wallet."
   ]
  },
  {
   "cell_type": "code",
   "execution_count": 441,
   "metadata": {},
   "outputs": [
    {
     "name": "stdout",
     "output_type": "stream",
     "text": [
      "The value of Bitcoin is $51464.4\n"
     ]
    }
   ],
   "source": [
    "# Compute the current value of the BTC holding \n",
    "btc_value = btc_coins * btc_price\n",
    "\n",
    "# Print current value of your holding in BTC\n",
    "print(f\"The value of Bitcoin is ${btc_value}\") # calculating total value of holders BTC\n"
   ]
  },
  {
   "cell_type": "code",
   "execution_count": 442,
   "metadata": {},
   "outputs": [
    {
     "name": "stdout",
     "output_type": "stream",
     "text": [
      "The value of Ethereum is $227301.1\n"
     ]
    }
   ],
   "source": [
    "# Compute the current value of the ETH holding \n",
    "eth_value = eth_coins * btc_price\n",
    "\n",
    "# Print current value of your holding in ETH\n",
    "print(f\"The value of Ethereum is ${eth_value}\") # calculating total value of holders ETH\n"
   ]
  },
  {
   "cell_type": "code",
   "execution_count": 443,
   "metadata": {},
   "outputs": [
    {
     "name": "stdout",
     "output_type": "stream",
     "text": [
      "The total value of the wallet is $278765.5\n"
     ]
    }
   ],
   "source": [
    "# Compute the total value of the cryptocurrency wallet\n",
    "# Add the value of the BTC holding to the value of the ETH holding\n",
    "total_crypto_wallet = eth_value + btc_value\n",
    "\n",
    "# Print current cryptocurrency wallet balance\n",
    "print(f\"The total value of the crypto wallet is ${total_crypto_wallet}\") # calculating total value of holders Cryptos\n"
   ]
  },
  {
   "cell_type": "markdown",
   "metadata": {},
   "source": [
    "### Evaluate the Stock and Bond Holdings by Using the Alpaca SDK\n",
    "\n",
    "In this section, you’ll determine the current value of a member’s stock and bond holdings. You’ll make an API call to Alpaca via the Alpaca SDK to get the current closing prices of the SPDR S&P 500 ETF Trust (ticker: SPY) and of the iShares Core US Aggregate Bond ETF (ticker: AGG). For the prototype, assume that the member holds 110 shares of SPY, which represents the stock portion of their portfolio, and 200 shares of AGG, which represents the bond portion. To do all this, complete the following steps:\n",
    "\n",
    "1. In the `Starter_Code` folder, create an environment file (`.env`) to store the values of your Alpaca API key and Alpaca secret key.\n",
    "\n",
    "2. Set the variables for the Alpaca API and secret keys. Using the Alpaca SDK, create the Alpaca `tradeapi.REST` object. In this object, include the parameters for the Alpaca API key, the secret key, and the version number.\n",
    "\n",
    "3. Set the following parameters for the Alpaca API call:\n",
    "\n",
    "    - `tickers`: Use the tickers for the member’s stock and bond holdings.\n",
    "\n",
    "    - `timeframe`: Use a time frame of one day.\n",
    "\n",
    "    - `start_date` and `end_date`: Use the same date for these parameters, and format them with the date of the previous weekday (or `2020-08-07`). This is because you want the one closing price for the most-recent trading day.\n",
    "\n",
    "4. Get the current closing prices for `SPY` and `AGG` by using the Alpaca `get_barset` function. Format the response as a Pandas DataFrame by including the `df` property at the end of the `get_barset` function.\n",
    "\n",
    "5. Navigating the Alpaca response DataFrame, select the `SPY` and `AGG` closing prices, and store them as variables.\n",
    "\n",
    "6. Calculate the value, in US dollars, of the current amount of shares in each of the stock and bond portions of the portfolio, and print the results.\n"
   ]
  },
  {
   "cell_type": "markdown",
   "metadata": {},
   "source": [
    "#### Review the total number of shares held in both (SPY) and (AGG)."
   ]
  },
  {
   "cell_type": "code",
   "execution_count": 444,
   "metadata": {},
   "outputs": [],
   "source": [
    "# Current amount of shares held in both the stock (SPY) and bond (AGG) portion of the portfolio.\n",
    "spy_shares = 110\n",
    "agg_shares = 200\n"
   ]
  },
  {
   "cell_type": "markdown",
   "metadata": {},
   "source": [
    "#### Step 1: In the `Starter_Code` folder, create an environment file (`.env`) to store the values of your Alpaca API key and Alpaca secret key."
   ]
  },
  {
   "cell_type": "markdown",
   "metadata": {},
   "source": [
    "#### Step 2: Set the variables for the Alpaca API and secret keys. Using the Alpaca SDK, create the Alpaca `tradeapi.REST` object. In this object, include the parameters for the Alpaca API key, the secret key, and the version number."
   ]
  },
  {
   "cell_type": "code",
   "execution_count": 445,
   "metadata": {},
   "outputs": [],
   "source": [
    "# Set the variables for the Alpaca API and secret keys\n",
    "alpaca_api_key = os.getenv(\"ALPACA_API_KEY\")\n",
    "alpaca_api_secret = os.getenv(\"ALPACA_API_SECRET\")\n",
    "\n",
    "# Create the Alpaca tradeapi.REST object\n",
    "alpaca = tradeapi.REST(\n",
    "    alpaca_api_key,\n",
    "    alpaca_api_secret,\n",
    "    api_version=\"v2\")"
   ]
  },
  {
   "cell_type": "code",
   "execution_count": 446,
   "metadata": {},
   "outputs": [],
   "source": [
    "# The Free Crypto API Call endpoint URLs for the held cryptocurrency assets\n",
    "btc_url = \"https://api.alternative.me/v2/ticker/Bitcoin/?convert=USD\"\n",
    "eth_url = \"https://api.alternative.me/v2/ticker/Ethereum/?convert=USD\""
   ]
  },
  {
   "cell_type": "markdown",
   "metadata": {},
   "source": [
    "#### Step 3: Set the following parameters for the Alpaca API call:\n",
    "\n",
    "- `tickers`: Use the tickers for the member’s stock and bond holdings.\n",
    "\n",
    "- `timeframe`: Use a time frame of one day.\n",
    "\n",
    "- `start_date` and `end_date`: Use the same date for these parameters, and format them with the date of the previous weekday (or `2020-08-07`). This is because you want the one closing price for the most-recent trading day.\n"
   ]
  },
  {
   "cell_type": "code",
   "execution_count": 447,
   "metadata": {},
   "outputs": [],
   "source": [
    "# Set the tickers for both the bond and stock portion of the portfolio\n",
    "tickers = [\"SPY\", \"AGG\"]\n",
    "\n",
    "# Set timeframe to 1D \n",
    "timeframe = \"1D\"\n",
    "\n",
    "# Format current date as ISO format\n",
    "# Set both the start and end date at the date of your prior weekday \n",
    "# This will give you the closing price of the previous trading day\n",
    "# Alternatively you can use a start and end date of 2020-08-07\n",
    "start_date = pd.Timestamp(\"2020-08-07\", tz = \"America/New_York\").isoformat()\n",
    "end_date = pd.Timestamp(\"2020-08-07\", tz = \"America/New_York\").isoformat()\n"
   ]
  },
  {
   "cell_type": "markdown",
   "metadata": {},
   "source": [
    "#### Step 4: Get the current closing prices for `SPY` and `AGG` by using the Alpaca `get_barset` function. Format the response as a Pandas DataFrame by including the `df` property at the end of the `get_barset` function."
   ]
  },
  {
   "cell_type": "code",
   "execution_count": 448,
   "metadata": {},
   "outputs": [
    {
     "data": {
      "text/plain": [
       "str"
      ]
     },
     "execution_count": 448,
     "metadata": {},
     "output_type": "execute_result"
    }
   ],
   "source": [
    "type(alpaca_api_key)"
   ]
  },
  {
   "cell_type": "code",
   "execution_count": 449,
   "metadata": {},
   "outputs": [
    {
     "data": {
      "text/plain": [
       "str"
      ]
     },
     "execution_count": 449,
     "metadata": {},
     "output_type": "execute_result"
    }
   ],
   "source": [
    "type(alpaca_api_secret)"
   ]
  },
  {
   "cell_type": "code",
   "execution_count": 451,
   "metadata": {},
   "outputs": [
    {
     "name": "stderr",
     "output_type": "stream",
     "text": [
      "/Users/ejbraggs/opt/anaconda3/envs/dev/lib/python3.7/site-packages/ipykernel_launcher.py:7: DeprecatedWarning: get_barset is deprecated as of v1.0.0. Use get_bars instead\n",
      "  import sys\n"
     ]
    },
    {
     "data": {
      "text/html": [
       "<div>\n",
       "<style scoped>\n",
       "    .dataframe tbody tr th:only-of-type {\n",
       "        vertical-align: middle;\n",
       "    }\n",
       "\n",
       "    .dataframe tbody tr th {\n",
       "        vertical-align: top;\n",
       "    }\n",
       "\n",
       "    .dataframe thead tr th {\n",
       "        text-align: left;\n",
       "    }\n",
       "\n",
       "    .dataframe thead tr:last-of-type th {\n",
       "        text-align: right;\n",
       "    }\n",
       "</style>\n",
       "<table border=\"1\" class=\"dataframe\">\n",
       "  <thead>\n",
       "    <tr>\n",
       "      <th></th>\n",
       "      <th colspan=\"5\" halign=\"left\">AGG</th>\n",
       "      <th colspan=\"5\" halign=\"left\">SPY</th>\n",
       "    </tr>\n",
       "    <tr>\n",
       "      <th></th>\n",
       "      <th>open</th>\n",
       "      <th>high</th>\n",
       "      <th>low</th>\n",
       "      <th>close</th>\n",
       "      <th>volume</th>\n",
       "      <th>open</th>\n",
       "      <th>high</th>\n",
       "      <th>low</th>\n",
       "      <th>close</th>\n",
       "      <th>volume</th>\n",
       "    </tr>\n",
       "    <tr>\n",
       "      <th>time</th>\n",
       "      <th></th>\n",
       "      <th></th>\n",
       "      <th></th>\n",
       "      <th></th>\n",
       "      <th></th>\n",
       "      <th></th>\n",
       "      <th></th>\n",
       "      <th></th>\n",
       "      <th></th>\n",
       "      <th></th>\n",
       "    </tr>\n",
       "  </thead>\n",
       "  <tbody>\n",
       "    <tr>\n",
       "      <th>2020-08-07 00:00:00-04:00</th>\n",
       "      <td>119.66</td>\n",
       "      <td>119.73</td>\n",
       "      <td>119.395</td>\n",
       "      <td>119.445</td>\n",
       "      <td>8830420</td>\n",
       "      <td>333.28</td>\n",
       "      <td>334.88</td>\n",
       "      <td>332.3</td>\n",
       "      <td>334.55</td>\n",
       "      <td>98710236</td>\n",
       "    </tr>\n",
       "  </tbody>\n",
       "</table>\n",
       "</div>"
      ],
      "text/plain": [
       "                              AGG                                        SPY  \\\n",
       "                             open    high      low    close   volume    open   \n",
       "time                                                                           \n",
       "2020-08-07 00:00:00-04:00  119.66  119.73  119.395  119.445  8830420  333.28   \n",
       "\n",
       "                                                            \n",
       "                             high    low   close    volume  \n",
       "time                                                        \n",
       "2020-08-07 00:00:00-04:00  334.88  332.3  334.55  98710236  "
      ]
     },
     "execution_count": 451,
     "metadata": {},
     "output_type": "execute_result"
    }
   ],
   "source": [
    "# Use the Alpaca get_barset function to get current closing prices the portfolio\n",
    "# Be sure to set the `df` property after the function to format the response object as a DataFrame\n",
    "prices_df = alpaca.get_barset(\n",
    "    tickers,\n",
    "    timeframe,\n",
    "    start= start_date,\n",
    "    end=end_date\n",
    ").df\n",
    "\n",
    "# Review the first 5 rows of the Alpaca DataFrame\n",
    "prices_df.head()\n",
    "\n"
   ]
  },
  {
   "cell_type": "markdown",
   "metadata": {},
   "source": [
    "#### Step 5: Navigating the Alpaca response DataFrame, select the `SPY` and `AGG` closing prices, and store them as variables."
   ]
  },
  {
   "cell_type": "code",
   "execution_count": 452,
   "metadata": {},
   "outputs": [
    {
     "name": "stdout",
     "output_type": "stream",
     "text": [
      "AGG closing price is $119.445\n"
     ]
    }
   ],
   "source": [
    "# Access the closing price for AGG from the Alpaca DataFrame\n",
    "# Converting the value to a floating point number\n",
    "agg_close_price = float(prices_df[\"AGG\"][\"close\"])\n",
    "\n",
    "# Print the AGG closing price\n",
    "print(f\"AGG closing price is ${agg_close_price}\")\n"
   ]
  },
  {
   "cell_type": "code",
   "execution_count": 453,
   "metadata": {},
   "outputs": [
    {
     "name": "stdout",
     "output_type": "stream",
     "text": [
      "SPY closing price is $334.55\n"
     ]
    }
   ],
   "source": [
    "# Access the closing price for SPY from the Alpaca DataFrame\n",
    "# Converting the value to a floating point number\n",
    "spy_close_price = float(prices_df[\"SPY\"][\"close\"])\n",
    "\n",
    "# Print the SPY closing price\n",
    "print(f\"SPY closing price is ${spy_close_price}\")\n"
   ]
  },
  {
   "cell_type": "markdown",
   "metadata": {},
   "source": [
    "#### Step 6: Calculate the value, in US dollars, of the current amount of shares in each of the stock and bond portions of the portfolio, and print the results."
   ]
  },
  {
   "cell_type": "code",
   "execution_count": 454,
   "metadata": {},
   "outputs": [
    {
     "name": "stdout",
     "output_type": "stream",
     "text": [
      "Total bond value for AGG is $ 23889.00\n"
     ]
    }
   ],
   "source": [
    "# Calculate the current value of the bond portion of the portfolio\n",
    "agg_value = agg_close_price * agg_shares\n",
    "\n",
    "# Print the current value of the bond portfolio\n",
    "print(f\"Total bond value for AGG is ${agg_value: .2f}\")\n"
   ]
  },
  {
   "cell_type": "code",
   "execution_count": 455,
   "metadata": {},
   "outputs": [
    {
     "name": "stdout",
     "output_type": "stream",
     "text": [
      "Total stock value for SPY is $ 36800.50\n"
     ]
    }
   ],
   "source": [
    "# Calculate the current value of the stock portion of the portfolio\n",
    "spy_value = spy_shares * spy_close_price\n",
    "\n",
    "# Print the current value of the stock portfolio\n",
    "print(f\"Total stock value for SPY is ${spy_value: .2f}\")\n"
   ]
  },
  {
   "cell_type": "code",
   "execution_count": 456,
   "metadata": {},
   "outputs": [
    {
     "name": "stdout",
     "output_type": "stream",
     "text": [
      "Total stock value for SPY is $ 60689.50\n"
     ]
    }
   ],
   "source": [
    "# Calculate the total value of the stock and bond portion of the portfolio\n",
    "total_stocks_bonds = spy_value + agg_value\n",
    "\n",
    "# Print the current balance of the stock and bond portion of the portfolio\n",
    "print(f\"Total stock and bond value for SPY is ${total_stocks_bonds: .2f}\")\n"
   ]
  },
  {
   "cell_type": "code",
   "execution_count": 457,
   "metadata": {},
   "outputs": [
    {
     "name": "stdout",
     "output_type": "stream",
     "text": [
      "Total portfolio value is $ 339455.00\n"
     ]
    }
   ],
   "source": [
    "# Calculate the total value of the member's entire savings portfolio\n",
    "# Add the value of the cryptocurrency walled to the value of the total stocks and bonds\n",
    "total_portfolio = total_crypto_wallet + total_stocks_bonds\n",
    "\n",
    "# Print current cryptocurrency wallet balance\n",
    "print(f\"Total portfolio value is ${total_portfolio: .2f}\") # calculating total value of holders portfolio"
   ]
  },
  {
   "cell_type": "markdown",
   "metadata": {},
   "source": [
    "### Evaluate the Emergency Fund\n",
    "\n",
    "In this section, you’ll use the valuations for the cryptocurrency wallet and for the stock and bond portions of the portfolio to determine if the credit union member has enough savings to build an emergency fund into their financial plan. To do this, complete the following steps:\n",
    "\n",
    "1. Create a Python list named `savings_data` that has two elements. The first element contains the total value of the cryptocurrency wallet. The second element contains the total value of the stock and bond portions of the portfolio.\n",
    "\n",
    "2. Use the `savings_data` list to create a Pandas DataFrame named `savings_df`, and then display this DataFrame. The function to create the DataFrame should take the following three parameters:\n",
    "\n",
    "    - `savings_data`: Use the list that you just created.\n",
    "\n",
    "    - `columns`: Set this parameter equal to a Python list with a single value called `amount`.\n",
    "\n",
    "    - `index`: Set this parameter equal to a Python list with the values of `crypto` and `stock/bond`.\n",
    "\n",
    "3. Use the `savings_df` DataFrame to plot a pie chart that visualizes the composition of the member’s portfolio. The y-axis of the pie chart uses `amount`. Be sure to add a title.\n",
    "\n",
    "4. Using Python, determine if the current portfolio has enough to create an emergency fund as part of the member’s financial plan. Ideally, an emergency fund should equal to three times the member’s monthly income. To do this, implement the following steps:\n",
    "\n",
    "    1. Create a variable named `emergency_fund_value`, and set it equal to three times the value of the member’s `monthly_income` of $12000. (You set this earlier in Part 1).\n",
    "\n",
    "    2. Create a series of three if statements to determine if the member’s total portfolio is large enough to fund the emergency portfolio:\n",
    "\n",
    "        1. If the total portfolio value is greater than the emergency fund value, display a message congratulating the member for having enough money in this fund.\n",
    "\n",
    "        2. Else if the total portfolio value is equal to the emergency fund value, display a message congratulating the member on reaching this important financial goal.\n",
    "\n",
    "        3. Else the total portfolio is less than the emergency fund value, so display a message showing how many dollars away the member is from reaching the goal. (Subtract the total portfolio value from the emergency fund value.)\n"
   ]
  },
  {
   "cell_type": "markdown",
   "metadata": {},
   "source": [
    "#### Step 1: Create a Python list named `savings_data` that has two elements. The first element contains the total value of the cryptocurrency wallet. The second element contains the total value of the stock and bond portions of the portfolio."
   ]
  },
  {
   "cell_type": "code",
   "execution_count": 458,
   "metadata": {},
   "outputs": [
    {
     "data": {
      "text/plain": [
       "['Crypto Total', 'Stocks / Bonds Total']"
      ]
     },
     "execution_count": 458,
     "metadata": {},
     "output_type": "execute_result"
    }
   ],
   "source": [
    "# Consolidate financial assets data into a Python list\n",
    "savings_data = [\"Crypto Total\",\"Stocks / Bonds Total\"]\n",
    "\n",
    "# Review the Python list savings_data\n",
    "savings_data"
   ]
  },
  {
   "cell_type": "markdown",
   "metadata": {},
   "source": [
    "#### Step 2: Use the `savings_data` list to create a Pandas DataFrame named `savings_df`, and then display this DataFrame. The function to create the DataFrame should take the following three parameters:\n",
    "\n",
    "- `savings_data`: Use the list that you just created.\n",
    "\n",
    "- `columns`: Set this parameter equal to a Python list with a single value called `amount`.\n",
    "\n",
    "- `index`: Set this parameter equal to a Python list with the values of `crypto` and `stock/bond`.\n"
   ]
  },
  {
   "cell_type": "code",
   "execution_count": 459,
   "metadata": {},
   "outputs": [
    {
     "data": {
      "text/html": [
       "<div>\n",
       "<style scoped>\n",
       "    .dataframe tbody tr th:only-of-type {\n",
       "        vertical-align: middle;\n",
       "    }\n",
       "\n",
       "    .dataframe tbody tr th {\n",
       "        vertical-align: top;\n",
       "    }\n",
       "\n",
       "    .dataframe thead th {\n",
       "        text-align: right;\n",
       "    }\n",
       "</style>\n",
       "<table border=\"1\" class=\"dataframe\">\n",
       "  <thead>\n",
       "    <tr style=\"text-align: right;\">\n",
       "      <th></th>\n",
       "      <th>Amount</th>\n",
       "    </tr>\n",
       "  </thead>\n",
       "  <tbody>\n",
       "    <tr>\n",
       "      <th>Crypto Total</th>\n",
       "      <td>278765.5</td>\n",
       "    </tr>\n",
       "    <tr>\n",
       "      <th>Stocks / Bonds Total</th>\n",
       "      <td>60689.5</td>\n",
       "    </tr>\n",
       "  </tbody>\n",
       "</table>\n",
       "</div>"
      ],
      "text/plain": [
       "                        Amount\n",
       "Crypto Total          278765.5\n",
       "Stocks / Bonds Total   60689.5"
      ]
     },
     "execution_count": 459,
     "metadata": {},
     "output_type": "execute_result"
    }
   ],
   "source": [
    "# Create a Pandas DataFrame called savings_df \n",
    "savings_df = pd.DataFrame(\n",
    "    {\"Amount\": [total_crypto_wallet, total_stocks_bonds]},\n",
    "    index= savings_data\n",
    ")\n",
    "\n",
    "# Display the savings_df DataFrame\n",
    "savings_df"
   ]
  },
  {
   "cell_type": "markdown",
   "metadata": {},
   "source": [
    "#### Step 3: Use the `savings_df` DataFrame to plot a pie chart that visualizes the composition of the member’s portfolio. The y-axis of the pie chart uses `amount`. Be sure to add a title."
   ]
  },
  {
   "cell_type": "code",
   "execution_count": 460,
   "metadata": {},
   "outputs": [
    {
     "data": {
      "text/plain": [
       "<AxesSubplot:title={'center':\"Total value of the member's portfolio\"}, ylabel='Amount'>"
      ]
     },
     "execution_count": 460,
     "metadata": {},
     "output_type": "execute_result"
    },
    {
     "data": {
      "image/png": "[encoded data removed]",
      "text/plain": [
       "<Figure size 432x288 with 1 Axes>"
      ]
     },
     "metadata": {},
     "output_type": "display_data"
    }
   ],
   "source": [
    "# Plot the total value of the member's portfolio (crypto and stock/bond) in a pie chart\n",
    "savings_df.plot.pie(y=\"Amount\", title=\"Total value of the member's portfolio\")"
   ]
  },
  {
   "cell_type": "markdown",
   "metadata": {},
   "source": [
    "#### Step 4: Using Python, determine if the current portfolio has enough to create an emergency fund as part of the member’s financial plan. Ideally, an emergency fund should equal to three times the member’s monthly income. To do this, implement the following steps:\n",
    "\n",
    "Step 1. Create a variable named `emergency_fund_value`, and set it equal to three times the value of the member’s `monthly_income` of 12000. (You set this earlier in Part 1).\n",
    "\n",
    "Step 2. Create a series of three if statements to determine if the member’s total portfolio is large enough to fund the emergency portfolio:\n",
    "\n",
    "* If the total portfolio value is greater than the emergency fund value, display a message congratulating the member for having enough money in this fund.\n",
    "\n",
    "* Else if the total portfolio value is equal to the emergency fund value, display a message congratulating the member on reaching this important financial goal.\n",
    "\n",
    "* Else the total portfolio is less than the emergency fund value, so display a message showing how many dollars away the member is from reaching the goal. (Subtract the total portfolio value from the emergency fund value.)\n"
   ]
  },
  {
   "cell_type": "markdown",
   "metadata": {},
   "source": [
    "##### Step 4-1: Create a variable named `emergency_fund_value`, and set it equal to three times the value of the member’s `monthly_income` of 12000. (You set this earlier in Part 1)."
   ]
  },
  {
   "cell_type": "code",
   "execution_count": 461,
   "metadata": {},
   "outputs": [
    {
     "data": {
      "text/plain": [
       "36000"
      ]
     },
     "execution_count": 461,
     "metadata": {},
     "output_type": "execute_result"
    }
   ],
   "source": [
    "# Create a variable named emergency_fund_value\n",
    "emergency_fund_value = monthly_income * 3\n",
    "emergency_fund_value\n"
   ]
  },
  {
   "cell_type": "markdown",
   "metadata": {},
   "source": [
    "##### Step 4-2: Create a series of three if statements to determine if the member’s total portfolio is large enough to fund the emergency portfolio:\n",
    "\n",
    "* If the total portfolio value is greater than the emergency fund value, display a message congratulating the member for having enough money in this fund.\n",
    "\n",
    "* Else if the total portfolio value is equal to the emergency fund value, display a message congratulating the member on reaching this important financial goal.\n",
    "\n",
    "* Else the total portfolio is less than the emergency fund value, so display a message showing how many dollars away the member is from reaching the goal. (Subtract the total portfolio value from the emergency fund value.)"
   ]
  },
  {
   "cell_type": "code",
   "execution_count": 462,
   "metadata": {},
   "outputs": [
    {
     "name": "stdout",
     "output_type": "stream",
     "text": [
      "Congrats! You have enough money in this fund!!\n"
     ]
    }
   ],
   "source": [
    "# Evaluate the possibility of creating an emergency fund with 3 conditions:\n",
    "\n",
    "if total_portfolio > emergency_fund_value:\n",
    "    print(\"Congrats! You have enough money in this fund!!\")\n",
    "\n",
    "elif total_portfolio == emergency_fund_value:\n",
    "    print(\"Congrats! You on reaching this important financial goal!!\")\n",
    "\n",
    "elif total_portfolio > emergency_fund_value:\n",
    "    print(f\"You need ${total_portfolio - emergency_fund_value} more to reach your goal!\")\n",
    "\n"
   ]
  },
  {
   "cell_type": "markdown",
   "metadata": {},
   "source": [
    "## Part 2: Create a Financial Planner for Retirement"
   ]
  },
  {
   "cell_type": "markdown",
   "metadata": {},
   "source": [
    "### Create the Monte Carlo Simulation\n",
    "\n",
    "In this section, you’ll use the MCForecastTools library to create a Monte Carlo simulation for the member’s savings portfolio. To do this, complete the following steps:\n",
    "\n",
    "1. Make an API call via the Alpaca SDK to get 3 years of historical closing prices for a traditional 60/40 portfolio split: 60% stocks (SPY) and 40% bonds (AGG).\n",
    "\n",
    "2. Run a Monte Carlo simulation of 500 samples and 30 years for the 60/40 portfolio, and then plot the results.The following image shows the overlay line plot resulting from a simulation with these characteristics. However, because a random number generator is used to run each live Monte Carlo simulation, your image will differ slightly from this exact image:\n",
    "\n",
    "![A screenshot depicts the resulting plot.](Images/5-4-monte-carlo-line-plot.png)\n",
    "\n",
    "3. Plot the probability distribution of the Monte Carlo simulation. Plot the probability distribution of the Monte Carlo simulation. The following image shows the histogram plot resulting from a simulation with these characteristics. However, because a random number generator is used to run each live Monte Carlo simulation, your image will differ slightly from this exact image:\n",
    "\n",
    "![A screenshot depicts the histogram plot.](Images/5-4-monte-carlo-histogram.png)\n",
    "\n",
    "4. Generate the summary statistics for the Monte Carlo simulation.\n",
    "\n"
   ]
  },
  {
   "cell_type": "markdown",
   "metadata": {},
   "source": [
    "#### Step 1: Make an API call via the Alpaca SDK to get 3 years of historical closing prices for a traditional 60/40 portfolio split: 60% stocks (SPY) and 40% bonds (AGG)."
   ]
  },
  {
   "cell_type": "code",
   "execution_count": 463,
   "metadata": {},
   "outputs": [
    {
     "data": {
      "text/plain": [
       "('2018-08-07T00:00:00-04:00', '2021-08-07T00:00:00-04:00')"
      ]
     },
     "execution_count": 463,
     "metadata": {},
     "output_type": "execute_result"
    }
   ],
   "source": [
    "# Set start and end dates of 3 years back from your current date\n",
    "# Alternatively, you can use an end date of 2020-08-07 and work 10 years back from that date\n",
    "start_date2 = pd.Timestamp(\"2018-08-07\", tz=\"America/New_York\").isoformat()\n",
    "end_date2 = pd.Timestamp(\"2021-08-07\", tz=\"America/New_York\").isoformat()\n",
    "\n",
    "start_date2 , end_date2"
   ]
  },
  {
   "cell_type": "code",
   "execution_count": 464,
   "metadata": {},
   "outputs": [
    {
     "name": "stdout",
     "output_type": "stream",
     "text": [
      "2018-08-07T00:00:00-04:00\n",
      "                              AGG                                       \\\n",
      "                             open      high       low   close   volume   \n",
      "time                                                                     \n",
      "2021-03-17 00:00:00-04:00  113.55  113.9778  113.4800  113.87  5023810   \n",
      "2021-03-18 00:00:00-04:00  113.32  113.8600  113.2000  113.42  6077516   \n",
      "2021-03-19 00:00:00-04:00  113.40  113.5400  113.3300  113.50  4674852   \n",
      "2021-03-22 00:00:00-04:00  113.70  113.8000  113.6022  113.75  5321817   \n",
      "2021-03-23 00:00:00-04:00  113.89  114.0400  113.7700  114.04  5022944   \n",
      "\n",
      "                               SPY                                     \n",
      "                              open     high     low   close    volume  \n",
      "time                                                                   \n",
      "2021-03-17 00:00:00-04:00  394.530  398.120  393.30  397.22  61876016  \n",
      "2021-03-18 00:00:00-04:00  394.475  396.720  390.75  391.41  98794050  \n",
      "2021-03-19 00:00:00-04:00  389.880  391.569  387.15  389.50  93819590  \n",
      "2021-03-22 00:00:00-04:00  390.030  394.070  389.97  392.54  61372559  \n",
      "2021-03-23 00:00:00-04:00  391.910  393.460  388.66  389.59  78167035  \n",
      "                              AGG                                        SPY  \\\n",
      "                             open    high       low   close   volume    open   \n",
      "time                                                                           \n",
      "2021-08-02 00:00:00-04:00  116.36  116.68  116.3050  116.53  4669027  440.34   \n",
      "2021-08-03 00:00:00-04:00  116.56  116.69  116.5306  116.58  3021828  438.44   \n",
      "2021-08-04 00:00:00-04:00  116.77  116.83  116.3000  116.57  4578711  439.77   \n",
      "2021-08-05 00:00:00-04:00  116.46  116.48  116.2800  116.32  3170931  440.22   \n",
      "2021-08-06 00:00:00-04:00  115.93  116.02  115.7800  115.79  3125122  442.10   \n",
      "\n",
      "                                                               \n",
      "                               high     low   close    volume  \n",
      "time                                                           \n",
      "2021-08-02 00:00:00-04:00  440.9300  437.21  437.58  54098311  \n",
      "2021-08-03 00:00:00-04:00  441.2800  436.10  441.12  52043386  \n",
      "2021-08-04 00:00:00-04:00  441.1243  438.73  439.01  40289514  \n",
      "2021-08-05 00:00:00-04:00  441.8500  439.88  441.77  34903127  \n",
      "2021-08-06 00:00:00-04:00  442.9400  441.80  442.52  40274051  \n"
     ]
    },
    {
     "name": "stderr",
     "output_type": "stream",
     "text": [
      "/Users/ejbraggs/opt/anaconda3/envs/dev/lib/python3.7/site-packages/ipykernel_launcher.py:10: DeprecatedWarning: get_barset is deprecated as of v1.0.0. Use get_bars instead\n",
      "  # Remove the CWD from sys.path while we load stuff.\n"
     ]
    }
   ],
   "source": [
    "# Use the Alpaca get_barset function to make the API call to get the 3 years worth of pricing data\n",
    "# The tickers and timeframe parameters should have been set in Part 1 of this activity \n",
    "# The start and end dates should be updated with the information set above\n",
    "# Remember to add the df property to the end of the call so the response is returned as a DataFrame\n",
    "\n",
    "prices_df = alpaca.get_barset(\n",
    "  tickers,\n",
    "  timeframe,\n",
    "  start= start_date2,\n",
    "  end= end_date2\n",
    ").df\n",
    "\n",
    "\n",
    "# Display both the first and last five rows of the DataFrame\n",
    "print(start_date2)\n",
    "print(prices_df.head())\n",
    "print(prices_df.tail())\n"
   ]
  },
  {
   "cell_type": "markdown",
   "metadata": {},
   "source": [
    "#### Step 2: Run a Monte Carlo simulation of 500 samples and 30 years for the 60/40 portfolio, and then plot the results."
   ]
  },
  {
   "cell_type": "code",
   "execution_count": 465,
   "metadata": {},
   "outputs": [
    {
     "data": {
      "text/html": [
       "<div>\n",
       "<style scoped>\n",
       "    .dataframe tbody tr th:only-of-type {\n",
       "        vertical-align: middle;\n",
       "    }\n",
       "\n",
       "    .dataframe tbody tr th {\n",
       "        vertical-align: top;\n",
       "    }\n",
       "\n",
       "    .dataframe thead tr th {\n",
       "        text-align: left;\n",
       "    }\n",
       "\n",
       "    .dataframe thead tr:last-of-type th {\n",
       "        text-align: right;\n",
       "    }\n",
       "</style>\n",
       "<table border=\"1\" class=\"dataframe\">\n",
       "  <thead>\n",
       "    <tr>\n",
       "      <th></th>\n",
       "      <th colspan=\"6\" halign=\"left\">AGG</th>\n",
       "      <th colspan=\"6\" halign=\"left\">SPY</th>\n",
       "    </tr>\n",
       "    <tr>\n",
       "      <th></th>\n",
       "      <th>open</th>\n",
       "      <th>high</th>\n",
       "      <th>low</th>\n",
       "      <th>close</th>\n",
       "      <th>volume</th>\n",
       "      <th>daily_return</th>\n",
       "      <th>open</th>\n",
       "      <th>high</th>\n",
       "      <th>low</th>\n",
       "      <th>close</th>\n",
       "      <th>volume</th>\n",
       "      <th>daily_return</th>\n",
       "    </tr>\n",
       "    <tr>\n",
       "      <th>time</th>\n",
       "      <th></th>\n",
       "      <th></th>\n",
       "      <th></th>\n",
       "      <th></th>\n",
       "      <th></th>\n",
       "      <th></th>\n",
       "      <th></th>\n",
       "      <th></th>\n",
       "      <th></th>\n",
       "      <th></th>\n",
       "      <th></th>\n",
       "      <th></th>\n",
       "    </tr>\n",
       "  </thead>\n",
       "  <tbody>\n",
       "    <tr>\n",
       "      <th>2021-03-17 00:00:00-04:00</th>\n",
       "      <td>113.55</td>\n",
       "      <td>113.9778</td>\n",
       "      <td>113.4800</td>\n",
       "      <td>113.87</td>\n",
       "      <td>5023810</td>\n",
       "      <td>NaN</td>\n",
       "      <td>394.530</td>\n",
       "      <td>398.120</td>\n",
       "      <td>393.30</td>\n",
       "      <td>397.22</td>\n",
       "      <td>61876016</td>\n",
       "      <td>NaN</td>\n",
       "    </tr>\n",
       "    <tr>\n",
       "      <th>2021-03-18 00:00:00-04:00</th>\n",
       "      <td>113.32</td>\n",
       "      <td>113.8600</td>\n",
       "      <td>113.2000</td>\n",
       "      <td>113.42</td>\n",
       "      <td>6077516</td>\n",
       "      <td>-0.003952</td>\n",
       "      <td>394.475</td>\n",
       "      <td>396.720</td>\n",
       "      <td>390.75</td>\n",
       "      <td>391.41</td>\n",
       "      <td>98794050</td>\n",
       "      <td>-0.014627</td>\n",
       "    </tr>\n",
       "    <tr>\n",
       "      <th>2021-03-19 00:00:00-04:00</th>\n",
       "      <td>113.40</td>\n",
       "      <td>113.5400</td>\n",
       "      <td>113.3300</td>\n",
       "      <td>113.50</td>\n",
       "      <td>4674852</td>\n",
       "      <td>0.000705</td>\n",
       "      <td>389.880</td>\n",
       "      <td>391.569</td>\n",
       "      <td>387.15</td>\n",
       "      <td>389.50</td>\n",
       "      <td>93819590</td>\n",
       "      <td>-0.004880</td>\n",
       "    </tr>\n",
       "    <tr>\n",
       "      <th>2021-03-22 00:00:00-04:00</th>\n",
       "      <td>113.70</td>\n",
       "      <td>113.8000</td>\n",
       "      <td>113.6022</td>\n",
       "      <td>113.75</td>\n",
       "      <td>5321817</td>\n",
       "      <td>0.002203</td>\n",
       "      <td>390.030</td>\n",
       "      <td>394.070</td>\n",
       "      <td>389.97</td>\n",
       "      <td>392.54</td>\n",
       "      <td>61372559</td>\n",
       "      <td>0.007805</td>\n",
       "    </tr>\n",
       "    <tr>\n",
       "      <th>2021-03-23 00:00:00-04:00</th>\n",
       "      <td>113.89</td>\n",
       "      <td>114.0400</td>\n",
       "      <td>113.7700</td>\n",
       "      <td>114.04</td>\n",
       "      <td>5022944</td>\n",
       "      <td>0.002549</td>\n",
       "      <td>391.910</td>\n",
       "      <td>393.460</td>\n",
       "      <td>388.66</td>\n",
       "      <td>389.59</td>\n",
       "      <td>78167035</td>\n",
       "      <td>-0.007515</td>\n",
       "    </tr>\n",
       "  </tbody>\n",
       "</table>\n",
       "</div>"
      ],
      "text/plain": [
       "                              AGG                                       \\\n",
       "                             open      high       low   close   volume   \n",
       "time                                                                     \n",
       "2021-03-17 00:00:00-04:00  113.55  113.9778  113.4800  113.87  5023810   \n",
       "2021-03-18 00:00:00-04:00  113.32  113.8600  113.2000  113.42  6077516   \n",
       "2021-03-19 00:00:00-04:00  113.40  113.5400  113.3300  113.50  4674852   \n",
       "2021-03-22 00:00:00-04:00  113.70  113.8000  113.6022  113.75  5321817   \n",
       "2021-03-23 00:00:00-04:00  113.89  114.0400  113.7700  114.04  5022944   \n",
       "\n",
       "                                            SPY                           \\\n",
       "                          daily_return     open     high     low   close   \n",
       "time                                                                       \n",
       "2021-03-17 00:00:00-04:00          NaN  394.530  398.120  393.30  397.22   \n",
       "2021-03-18 00:00:00-04:00    -0.003952  394.475  396.720  390.75  391.41   \n",
       "2021-03-19 00:00:00-04:00     0.000705  389.880  391.569  387.15  389.50   \n",
       "2021-03-22 00:00:00-04:00     0.002203  390.030  394.070  389.97  392.54   \n",
       "2021-03-23 00:00:00-04:00     0.002549  391.910  393.460  388.66  389.59   \n",
       "\n",
       "                                                  \n",
       "                             volume daily_return  \n",
       "time                                              \n",
       "2021-03-17 00:00:00-04:00  61876016          NaN  \n",
       "2021-03-18 00:00:00-04:00  98794050    -0.014627  \n",
       "2021-03-19 00:00:00-04:00  93819590    -0.004880  \n",
       "2021-03-22 00:00:00-04:00  61372559     0.007805  \n",
       "2021-03-23 00:00:00-04:00  78167035    -0.007515  "
      ]
     },
     "execution_count": 465,
     "metadata": {},
     "output_type": "execute_result"
    }
   ],
   "source": [
    "# Configure the Monte Carlo simulation to forecast 30 years cumulative returns\n",
    "# The weights should be split 40% to AGG and 60% to SPY.\n",
    "# Run 500 samples.\n",
    "MC_threeyear = MCSimulation(\n",
    "  portfolio_data = prices_df,\n",
    "  weights = [.40,.60],\n",
    "  num_simulation = 500,\n",
    "  num_trading_days = 252*30\n",
    ")\n",
    "\n",
    "# Review the simulation input data\n",
    "MC_threeyear.portfolio_data.head()\n"
   ]
  },
  {
   "cell_type": "code",
   "execution_count": 466,
   "metadata": {},
   "outputs": [
    {
     "name": "stdout",
     "output_type": "stream",
     "text": [
      "Running Monte Carlo simulation number 0.\n",
      "Running Monte Carlo simulation number 10.\n",
      "Running Monte Carlo simulation number 20.\n",
      "Running Monte Carlo simulation number 30.\n",
      "Running Monte Carlo simulation number 40.\n",
      "Running Monte Carlo simulation number 50.\n",
      "Running Monte Carlo simulation number 60.\n",
      "Running Monte Carlo simulation number 70.\n",
      "Running Monte Carlo simulation number 80.\n",
      "Running Monte Carlo simulation number 90.\n",
      "Running Monte Carlo simulation number 100.\n"
     ]
    },
    {
     "name": "stderr",
     "output_type": "stream",
     "text": [
      "/Users/ejbraggs/Desktop/Module-5-Challenge/Module-5-Challenge/Starter_Code/MCForecastTools.py:117: PerformanceWarning: DataFrame is highly fragmented.  This is usually the result of calling `frame.insert` many times, which has poor performance.  Consider joining all columns at once using pd.concat(axis=1) instead.  To get a de-fragmented frame, use `newframe = frame.copy()`\n",
      "  portfolio_cumulative_returns[n] = (1 + sim_df.fillna(0)).cumprod()\n"
     ]
    },
    {
     "name": "stdout",
     "output_type": "stream",
     "text": [
      "Running Monte Carlo simulation number 110.\n",
      "Running Monte Carlo simulation number 120.\n",
      "Running Monte Carlo simulation number 130.\n",
      "Running Monte Carlo simulation number 140.\n",
      "Running Monte Carlo simulation number 150.\n",
      "Running Monte Carlo simulation number 160.\n",
      "Running Monte Carlo simulation number 170.\n",
      "Running Monte Carlo simulation number 180.\n",
      "Running Monte Carlo simulation number 190.\n",
      "Running Monte Carlo simulation number 200.\n",
      "Running Monte Carlo simulation number 210.\n",
      "Running Monte Carlo simulation number 220.\n",
      "Running Monte Carlo simulation number 230.\n",
      "Running Monte Carlo simulation number 240.\n",
      "Running Monte Carlo simulation number 250.\n",
      "Running Monte Carlo simulation number 260.\n",
      "Running Monte Carlo simulation number 270.\n",
      "Running Monte Carlo simulation number 280.\n",
      "Running Monte Carlo simulation number 290.\n",
      "Running Monte Carlo simulation number 300.\n",
      "Running Monte Carlo simulation number 310.\n",
      "Running Monte Carlo simulation number 320.\n",
      "Running Monte Carlo simulation number 330.\n",
      "Running Monte Carlo simulation number 340.\n",
      "Running Monte Carlo simulation number 350.\n",
      "Running Monte Carlo simulation number 360.\n",
      "Running Monte Carlo simulation number 370.\n",
      "Running Monte Carlo simulation number 380.\n",
      "Running Monte Carlo simulation number 390.\n",
      "Running Monte Carlo simulation number 400.\n",
      "Running Monte Carlo simulation number 410.\n",
      "Running Monte Carlo simulation number 420.\n",
      "Running Monte Carlo simulation number 430.\n",
      "Running Monte Carlo simulation number 440.\n",
      "Running Monte Carlo simulation number 450.\n",
      "Running Monte Carlo simulation number 460.\n",
      "Running Monte Carlo simulation number 470.\n",
      "Running Monte Carlo simulation number 480.\n",
      "Running Monte Carlo simulation number 490.\n"
     ]
    },
    {
     "data": {
      "text/html": [
       "<div>\n",
       "<style scoped>\n",
       "    .dataframe tbody tr th:only-of-type {\n",
       "        vertical-align: middle;\n",
       "    }\n",
       "\n",
       "    .dataframe tbody tr th {\n",
       "        vertical-align: top;\n",
       "    }\n",
       "\n",
       "    .dataframe thead th {\n",
       "        text-align: right;\n",
       "    }\n",
       "</style>\n",
       "<table border=\"1\" class=\"dataframe\">\n",
       "  <thead>\n",
       "    <tr style=\"text-align: right;\">\n",
       "      <th></th>\n",
       "      <th>0</th>\n",
       "      <th>1</th>\n",
       "      <th>2</th>\n",
       "      <th>3</th>\n",
       "      <th>4</th>\n",
       "      <th>5</th>\n",
       "      <th>6</th>\n",
       "      <th>7</th>\n",
       "      <th>8</th>\n",
       "      <th>9</th>\n",
       "      <th>...</th>\n",
       "      <th>490</th>\n",
       "      <th>491</th>\n",
       "      <th>492</th>\n",
       "      <th>493</th>\n",
       "      <th>494</th>\n",
       "      <th>495</th>\n",
       "      <th>496</th>\n",
       "      <th>497</th>\n",
       "      <th>498</th>\n",
       "      <th>499</th>\n",
       "    </tr>\n",
       "  </thead>\n",
       "  <tbody>\n",
       "    <tr>\n",
       "      <th>0</th>\n",
       "      <td>1.000000</td>\n",
       "      <td>1.000000</td>\n",
       "      <td>1.000000</td>\n",
       "      <td>1.000000</td>\n",
       "      <td>1.000000</td>\n",
       "      <td>1.000000</td>\n",
       "      <td>1.000000</td>\n",
       "      <td>1.000000</td>\n",
       "      <td>1.000000</td>\n",
       "      <td>1.000000</td>\n",
       "      <td>...</td>\n",
       "      <td>1.000000</td>\n",
       "      <td>1.000000</td>\n",
       "      <td>1.000000</td>\n",
       "      <td>1.000000</td>\n",
       "      <td>1.000000</td>\n",
       "      <td>1.000000</td>\n",
       "      <td>1.000000</td>\n",
       "      <td>1.000000</td>\n",
       "      <td>1.000000</td>\n",
       "      <td>1.000000</td>\n",
       "    </tr>\n",
       "    <tr>\n",
       "      <th>1</th>\n",
       "      <td>1.001853</td>\n",
       "      <td>1.007686</td>\n",
       "      <td>1.004845</td>\n",
       "      <td>1.003116</td>\n",
       "      <td>1.012716</td>\n",
       "      <td>0.998061</td>\n",
       "      <td>0.999555</td>\n",
       "      <td>0.991293</td>\n",
       "      <td>1.005796</td>\n",
       "      <td>0.997941</td>\n",
       "      <td>...</td>\n",
       "      <td>1.005841</td>\n",
       "      <td>1.002407</td>\n",
       "      <td>1.002357</td>\n",
       "      <td>1.000979</td>\n",
       "      <td>1.000353</td>\n",
       "      <td>1.006090</td>\n",
       "      <td>0.999621</td>\n",
       "      <td>1.009280</td>\n",
       "      <td>1.002904</td>\n",
       "      <td>1.005512</td>\n",
       "    </tr>\n",
       "    <tr>\n",
       "      <th>2</th>\n",
       "      <td>1.008039</td>\n",
       "      <td>1.008704</td>\n",
       "      <td>1.003477</td>\n",
       "      <td>1.008138</td>\n",
       "      <td>1.014038</td>\n",
       "      <td>0.996731</td>\n",
       "      <td>1.007655</td>\n",
       "      <td>0.995350</td>\n",
       "      <td>1.016333</td>\n",
       "      <td>0.996056</td>\n",
       "      <td>...</td>\n",
       "      <td>1.003984</td>\n",
       "      <td>0.999998</td>\n",
       "      <td>1.005665</td>\n",
       "      <td>1.000783</td>\n",
       "      <td>0.998626</td>\n",
       "      <td>1.010190</td>\n",
       "      <td>0.996373</td>\n",
       "      <td>1.006370</td>\n",
       "      <td>1.004367</td>\n",
       "      <td>1.005094</td>\n",
       "    </tr>\n",
       "    <tr>\n",
       "      <th>3</th>\n",
       "      <td>1.004003</td>\n",
       "      <td>1.012325</td>\n",
       "      <td>1.000330</td>\n",
       "      <td>1.007870</td>\n",
       "      <td>1.008982</td>\n",
       "      <td>0.998356</td>\n",
       "      <td>1.007376</td>\n",
       "      <td>0.997453</td>\n",
       "      <td>1.012236</td>\n",
       "      <td>0.994252</td>\n",
       "      <td>...</td>\n",
       "      <td>1.004510</td>\n",
       "      <td>1.003513</td>\n",
       "      <td>1.005905</td>\n",
       "      <td>1.001689</td>\n",
       "      <td>1.003225</td>\n",
       "      <td>1.018243</td>\n",
       "      <td>0.995297</td>\n",
       "      <td>1.013122</td>\n",
       "      <td>0.998229</td>\n",
       "      <td>1.003754</td>\n",
       "    </tr>\n",
       "    <tr>\n",
       "      <th>4</th>\n",
       "      <td>1.009707</td>\n",
       "      <td>1.010543</td>\n",
       "      <td>1.003484</td>\n",
       "      <td>1.007765</td>\n",
       "      <td>1.003591</td>\n",
       "      <td>1.007912</td>\n",
       "      <td>1.000449</td>\n",
       "      <td>0.997709</td>\n",
       "      <td>1.009394</td>\n",
       "      <td>1.001179</td>\n",
       "      <td>...</td>\n",
       "      <td>1.001959</td>\n",
       "      <td>1.005905</td>\n",
       "      <td>1.011542</td>\n",
       "      <td>0.999180</td>\n",
       "      <td>1.008809</td>\n",
       "      <td>1.023101</td>\n",
       "      <td>0.988617</td>\n",
       "      <td>1.012306</td>\n",
       "      <td>1.001513</td>\n",
       "      <td>1.003037</td>\n",
       "    </tr>\n",
       "    <tr>\n",
       "      <th>...</th>\n",
       "      <td>...</td>\n",
       "      <td>...</td>\n",
       "      <td>...</td>\n",
       "      <td>...</td>\n",
       "      <td>...</td>\n",
       "      <td>...</td>\n",
       "      <td>...</td>\n",
       "      <td>...</td>\n",
       "      <td>...</td>\n",
       "      <td>...</td>\n",
       "      <td>...</td>\n",
       "      <td>...</td>\n",
       "      <td>...</td>\n",
       "      <td>...</td>\n",
       "      <td>...</td>\n",
       "      <td>...</td>\n",
       "      <td>...</td>\n",
       "      <td>...</td>\n",
       "      <td>...</td>\n",
       "      <td>...</td>\n",
       "      <td>...</td>\n",
       "    </tr>\n",
       "    <tr>\n",
       "      <th>7556</th>\n",
       "      <td>130.771251</td>\n",
       "      <td>115.040137</td>\n",
       "      <td>130.830365</td>\n",
       "      <td>380.467728</td>\n",
       "      <td>484.833392</td>\n",
       "      <td>325.756436</td>\n",
       "      <td>193.395783</td>\n",
       "      <td>348.852780</td>\n",
       "      <td>111.760697</td>\n",
       "      <td>199.122950</td>\n",
       "      <td>...</td>\n",
       "      <td>262.918564</td>\n",
       "      <td>163.351043</td>\n",
       "      <td>213.655207</td>\n",
       "      <td>303.393002</td>\n",
       "      <td>166.170612</td>\n",
       "      <td>379.991676</td>\n",
       "      <td>289.521067</td>\n",
       "      <td>116.678952</td>\n",
       "      <td>264.229128</td>\n",
       "      <td>143.054006</td>\n",
       "    </tr>\n",
       "    <tr>\n",
       "      <th>7557</th>\n",
       "      <td>131.954096</td>\n",
       "      <td>115.173234</td>\n",
       "      <td>130.093740</td>\n",
       "      <td>379.373333</td>\n",
       "      <td>482.078630</td>\n",
       "      <td>327.548059</td>\n",
       "      <td>193.622286</td>\n",
       "      <td>349.095990</td>\n",
       "      <td>111.735111</td>\n",
       "      <td>199.988878</td>\n",
       "      <td>...</td>\n",
       "      <td>263.868629</td>\n",
       "      <td>164.651214</td>\n",
       "      <td>215.230467</td>\n",
       "      <td>301.247580</td>\n",
       "      <td>166.739249</td>\n",
       "      <td>379.842150</td>\n",
       "      <td>290.795279</td>\n",
       "      <td>116.293359</td>\n",
       "      <td>265.417940</td>\n",
       "      <td>144.188819</td>\n",
       "    </tr>\n",
       "    <tr>\n",
       "      <th>7558</th>\n",
       "      <td>133.170973</td>\n",
       "      <td>115.844706</td>\n",
       "      <td>129.914680</td>\n",
       "      <td>379.795837</td>\n",
       "      <td>483.482313</td>\n",
       "      <td>327.982833</td>\n",
       "      <td>194.087902</td>\n",
       "      <td>350.764481</td>\n",
       "      <td>111.862965</td>\n",
       "      <td>198.216125</td>\n",
       "      <td>...</td>\n",
       "      <td>264.967205</td>\n",
       "      <td>164.749916</td>\n",
       "      <td>215.341990</td>\n",
       "      <td>301.388516</td>\n",
       "      <td>167.221853</td>\n",
       "      <td>385.688517</td>\n",
       "      <td>290.318920</td>\n",
       "      <td>115.546200</td>\n",
       "      <td>266.539672</td>\n",
       "      <td>144.997534</td>\n",
       "    </tr>\n",
       "    <tr>\n",
       "      <th>7559</th>\n",
       "      <td>133.068731</td>\n",
       "      <td>115.615497</td>\n",
       "      <td>129.037139</td>\n",
       "      <td>381.113099</td>\n",
       "      <td>485.879564</td>\n",
       "      <td>328.111870</td>\n",
       "      <td>194.229115</td>\n",
       "      <td>351.475574</td>\n",
       "      <td>111.640174</td>\n",
       "      <td>197.056324</td>\n",
       "      <td>...</td>\n",
       "      <td>264.860006</td>\n",
       "      <td>164.364458</td>\n",
       "      <td>215.845668</td>\n",
       "      <td>300.708457</td>\n",
       "      <td>167.965149</td>\n",
       "      <td>390.088357</td>\n",
       "      <td>290.444867</td>\n",
       "      <td>115.960135</td>\n",
       "      <td>267.963943</td>\n",
       "      <td>145.029623</td>\n",
       "    </tr>\n",
       "    <tr>\n",
       "      <th>7560</th>\n",
       "      <td>133.315807</td>\n",
       "      <td>115.772229</td>\n",
       "      <td>130.041419</td>\n",
       "      <td>381.134022</td>\n",
       "      <td>481.714960</td>\n",
       "      <td>330.596569</td>\n",
       "      <td>194.479732</td>\n",
       "      <td>350.539738</td>\n",
       "      <td>111.423528</td>\n",
       "      <td>197.811357</td>\n",
       "      <td>...</td>\n",
       "      <td>265.034761</td>\n",
       "      <td>163.803914</td>\n",
       "      <td>216.544716</td>\n",
       "      <td>299.812637</td>\n",
       "      <td>166.844865</td>\n",
       "      <td>388.613290</td>\n",
       "      <td>289.842093</td>\n",
       "      <td>116.396886</td>\n",
       "      <td>268.227700</td>\n",
       "      <td>144.762625</td>\n",
       "    </tr>\n",
       "  </tbody>\n",
       "</table>\n",
       "<p>7561 rows × 500 columns</p>\n",
       "</div>"
      ],
      "text/plain": [
       "             0           1           2           3           4           5    \\\n",
       "0       1.000000    1.000000    1.000000    1.000000    1.000000    1.000000   \n",
       "1       1.001853    1.007686    1.004845    1.003116    1.012716    0.998061   \n",
       "2       1.008039    1.008704    1.003477    1.008138    1.014038    0.996731   \n",
       "3       1.004003    1.012325    1.000330    1.007870    1.008982    0.998356   \n",
       "4       1.009707    1.010543    1.003484    1.007765    1.003591    1.007912   \n",
       "...          ...         ...         ...         ...         ...         ...   \n",
       "7556  130.771251  115.040137  130.830365  380.467728  484.833392  325.756436   \n",
       "7557  131.954096  115.173234  130.093740  379.373333  482.078630  327.548059   \n",
       "7558  133.170973  115.844706  129.914680  379.795837  483.482313  327.982833   \n",
       "7559  133.068731  115.615497  129.037139  381.113099  485.879564  328.111870   \n",
       "7560  133.315807  115.772229  130.041419  381.134022  481.714960  330.596569   \n",
       "\n",
       "             6           7           8           9    ...         490  \\\n",
       "0       1.000000    1.000000    1.000000    1.000000  ...    1.000000   \n",
       "1       0.999555    0.991293    1.005796    0.997941  ...    1.005841   \n",
       "2       1.007655    0.995350    1.016333    0.996056  ...    1.003984   \n",
       "3       1.007376    0.997453    1.012236    0.994252  ...    1.004510   \n",
       "4       1.000449    0.997709    1.009394    1.001179  ...    1.001959   \n",
       "...          ...         ...         ...         ...  ...         ...   \n",
       "7556  193.395783  348.852780  111.760697  199.122950  ...  262.918564   \n",
       "7557  193.622286  349.095990  111.735111  199.988878  ...  263.868629   \n",
       "7558  194.087902  350.764481  111.862965  198.216125  ...  264.967205   \n",
       "7559  194.229115  351.475574  111.640174  197.056324  ...  264.860006   \n",
       "7560  194.479732  350.539738  111.423528  197.811357  ...  265.034761   \n",
       "\n",
       "             491         492         493         494         495         496  \\\n",
       "0       1.000000    1.000000    1.000000    1.000000    1.000000    1.000000   \n",
       "1       1.002407    1.002357    1.000979    1.000353    1.006090    0.999621   \n",
       "2       0.999998    1.005665    1.000783    0.998626    1.010190    0.996373   \n",
       "3       1.003513    1.005905    1.001689    1.003225    1.018243    0.995297   \n",
       "4       1.005905    1.011542    0.999180    1.008809    1.023101    0.988617   \n",
       "...          ...         ...         ...         ...         ...         ...   \n",
       "7556  163.351043  213.655207  303.393002  166.170612  379.991676  289.521067   \n",
       "7557  164.651214  215.230467  301.247580  166.739249  379.842150  290.795279   \n",
       "7558  164.749916  215.341990  301.388516  167.221853  385.688517  290.318920   \n",
       "7559  164.364458  215.845668  300.708457  167.965149  390.088357  290.444867   \n",
       "7560  163.803914  216.544716  299.812637  166.844865  388.613290  289.842093   \n",
       "\n",
       "             497         498         499  \n",
       "0       1.000000    1.000000    1.000000  \n",
       "1       1.009280    1.002904    1.005512  \n",
       "2       1.006370    1.004367    1.005094  \n",
       "3       1.013122    0.998229    1.003754  \n",
       "4       1.012306    1.001513    1.003037  \n",
       "...          ...         ...         ...  \n",
       "7556  116.678952  264.229128  143.054006  \n",
       "7557  116.293359  265.417940  144.188819  \n",
       "7558  115.546200  266.539672  144.997534  \n",
       "7559  115.960135  267.963943  145.029623  \n",
       "7560  116.396886  268.227700  144.762625  \n",
       "\n",
       "[7561 rows x 500 columns]"
      ]
     },
     "execution_count": 466,
     "metadata": {},
     "output_type": "execute_result"
    }
   ],
   "source": [
    "# Run the Monte Carlo simulation to forecast 30 years cumulative returns\n",
    "MC_threeyear.calc_cumulative_return()"
   ]
  },
  {
   "cell_type": "code",
   "execution_count": 467,
   "metadata": {},
   "outputs": [
    {
     "data": {
      "text/plain": [
       "<AxesSubplot:title={'center':'500 Simulations of Cumulative Portfolio Return Trajectories Over the Next 7560 Trading Days.'}>"
      ]
     },
     "execution_count": 467,
     "metadata": {},
     "output_type": "execute_result"
    },
    {
     "data": {
      "image/png": "[encoded data removed]",
      "text/plain": [
       "<Figure size 432x288 with 1 Axes>"
      ]
     },
     "metadata": {
      "needs_background": "light"
     },
     "output_type": "display_data"
    }
   ],
   "source": [
    "# Visualize the 30-year Monte Carlo simulation by creating an\n",
    "# overlay line plot\n",
    "MC_threeyear.plot_simulation()"
   ]
  },
  {
   "cell_type": "markdown",
   "metadata": {},
   "source": [
    "#### Step 3: Plot the probability distribution of the Monte Carlo simulation."
   ]
  },
  {
   "cell_type": "code",
   "execution_count": 468,
   "metadata": {},
   "outputs": [
    {
     "data": {
      "text/plain": [
       "<AxesSubplot:title={'center':'Distribution of Final Cumuluative Returns Across All 500 Simulations'}, ylabel='Frequency'>"
      ]
     },
     "execution_count": 468,
     "metadata": {},
     "output_type": "execute_result"
    },
    {
     "data": {
      "image/png": "[encoded data removed]",
      "text/plain": [
       "<Figure size 432x288 with 1 Axes>"
      ]
     },
     "metadata": {
      "needs_background": "light"
     },
     "output_type": "display_data"
    }
   ],
   "source": [
    "# Visualize the probability distribution of the 30-year Monte Carlo simulation \n",
    "# by plotting a histogram\n",
    "MC_threeyear.plot_distribution()"
   ]
  },
  {
   "cell_type": "markdown",
   "metadata": {},
   "source": [
    "#### Step 4: Generate the summary statistics for the Monte Carlo simulation."
   ]
  },
  {
   "cell_type": "code",
   "execution_count": 469,
   "metadata": {},
   "outputs": [
    {
     "name": "stdout",
     "output_type": "stream",
     "text": [
      "count           500.000000\n",
      "mean            260.000570\n",
      "std             104.063674\n",
      "min              76.484593\n",
      "25%             187.692215\n",
      "50%             243.866408\n",
      "75%             315.841374\n",
      "max             975.583973\n",
      "95% CI Lower    115.809621\n",
      "95% CI Upper    474.110818\n",
      "Name: 7560, dtype: float64\n"
     ]
    }
   ],
   "source": [
    "# Generate summary statistics from the 30-year Monte Carlo simulation results\n",
    "# Save the results as a variable\n",
    "mc_stats = MC_threeyear.summarize_cumulative_return()\n",
    "\n",
    "\n",
    "# Review the 30-year Monte Carlo summary statistics\n",
    "print(mc_stats)"
   ]
  },
  {
   "cell_type": "markdown",
   "metadata": {},
   "source": [
    "### Analyze the Retirement Portfolio Forecasts\n",
    "\n",
    "Using the current value of only the stock and bond portion of the member's portfolio and the summary statistics that you generated from the Monte Carlo simulation, answer the following question in your Jupyter notebook:\n",
    "\n",
    "-  What are the lower and upper bounds for the expected value of the portfolio with a 95% confidence interval?\n"
   ]
  },
  {
   "cell_type": "code",
   "execution_count": 470,
   "metadata": {},
   "outputs": [
    {
     "name": "stdout",
     "output_type": "stream",
     "text": [
      "this is the current balance of the entire portfolio $ 60689.50\n"
     ]
    }
   ],
   "source": [
    "# Print the current balance of the stock and bond portion of the members portfolio\n",
    "print(f\"this is the current balance of the entire portfolio ${total_stocks_bonds: .2f}\")\n"
   ]
  },
  {
   "cell_type": "code",
   "execution_count": 471,
   "metadata": {},
   "outputs": [
    {
     "name": "stdout",
     "output_type": "stream",
     "text": [
      "There is a 95% chance that an initial investment of $ 60689.50 over the next 30 years will end within in the range of$ 7028428.02 and $ 28773548.47.\n"
     ]
    }
   ],
   "source": [
    "# Use the lower and upper `95%` confidence intervals to calculate the range of the possible outcomes for the current stock/bond portfolio\n",
    "ci_lower_thirty_cumulative_return = mc_stats[8] * total_stocks_bonds\n",
    "ci_upper_thirty_cumulative_return = mc_stats[9] * total_stocks_bonds\n",
    "\n",
    "# Print the result of your calculations\n",
    "print(f\"There is a 95% chance that an initial investment of ${total_stocks_bonds: .2f}\" f\" over the next 30 years will end within in the range of\" f\"${ci_lower_thirty_cumulative_return: .2f} and ${ci_upper_thirty_cumulative_return: .2f}.\")\n",
    "\n"
   ]
  },
  {
   "cell_type": "markdown",
   "metadata": {},
   "source": [
    "### Forecast Cumulative Returns in 10 Years\n",
    "\n",
    "The CTO of the credit union is impressed with your work on these planning tools but wonders if 30 years is a long time to wait until retirement. So, your next task is to adjust the retirement portfolio and run a new Monte Carlo simulation to find out if the changes will allow members to retire earlier.\n",
    "\n",
    "For this new Monte Carlo simulation, do the following: \n",
    "\n",
    "- Forecast the cumulative returns for 10 years from now. Because of the shortened investment horizon (30 years to 10 years), the portfolio needs to invest more heavily in the riskier asset&mdash;that is, stock&mdash;to help accumulate wealth for retirement. \n",
    "\n",
    "- Adjust the weights of the retirement portfolio so that the composition for the Monte Carlo simulation consists of 20% bonds and 80% stocks. \n",
    "\n",
    "- Run the simulation over 500 samples, and use the same data that the API call to Alpaca generated.\n",
    "\n",
    "- Based on the new Monte Carlo simulation, answer the following questions in your Jupyter notebook:\n",
    "\n",
    "    - Using the current value of only the stock and bond portion of the member's portfolio and the summary statistics that you generated from the new Monte Carlo simulation, what are the lower and upper bounds for the expected value of the portfolio (with the new weights) with a 95% confidence interval?\n",
    "\n",
    "    - Will weighting the portfolio more heavily toward stocks allow the credit union members to retire after only 10 years?\n"
   ]
  },
  {
   "cell_type": "code",
   "execution_count": 472,
   "metadata": {},
   "outputs": [
    {
     "data": {
      "text/html": [
       "<div>\n",
       "<style scoped>\n",
       "    .dataframe tbody tr th:only-of-type {\n",
       "        vertical-align: middle;\n",
       "    }\n",
       "\n",
       "    .dataframe tbody tr th {\n",
       "        vertical-align: top;\n",
       "    }\n",
       "\n",
       "    .dataframe thead tr th {\n",
       "        text-align: left;\n",
       "    }\n",
       "\n",
       "    .dataframe thead tr:last-of-type th {\n",
       "        text-align: right;\n",
       "    }\n",
       "</style>\n",
       "<table border=\"1\" class=\"dataframe\">\n",
       "  <thead>\n",
       "    <tr>\n",
       "      <th></th>\n",
       "      <th colspan=\"6\" halign=\"left\">AGG</th>\n",
       "      <th colspan=\"6\" halign=\"left\">SPY</th>\n",
       "    </tr>\n",
       "    <tr>\n",
       "      <th></th>\n",
       "      <th>open</th>\n",
       "      <th>high</th>\n",
       "      <th>low</th>\n",
       "      <th>close</th>\n",
       "      <th>volume</th>\n",
       "      <th>daily_return</th>\n",
       "      <th>open</th>\n",
       "      <th>high</th>\n",
       "      <th>low</th>\n",
       "      <th>close</th>\n",
       "      <th>volume</th>\n",
       "      <th>daily_return</th>\n",
       "    </tr>\n",
       "    <tr>\n",
       "      <th>time</th>\n",
       "      <th></th>\n",
       "      <th></th>\n",
       "      <th></th>\n",
       "      <th></th>\n",
       "      <th></th>\n",
       "      <th></th>\n",
       "      <th></th>\n",
       "      <th></th>\n",
       "      <th></th>\n",
       "      <th></th>\n",
       "      <th></th>\n",
       "      <th></th>\n",
       "    </tr>\n",
       "  </thead>\n",
       "  <tbody>\n",
       "    <tr>\n",
       "      <th>2021-03-17 00:00:00-04:00</th>\n",
       "      <td>113.55</td>\n",
       "      <td>113.9778</td>\n",
       "      <td>113.4800</td>\n",
       "      <td>113.87</td>\n",
       "      <td>5023810</td>\n",
       "      <td>NaN</td>\n",
       "      <td>394.530</td>\n",
       "      <td>398.120</td>\n",
       "      <td>393.30</td>\n",
       "      <td>397.22</td>\n",
       "      <td>61876016</td>\n",
       "      <td>NaN</td>\n",
       "    </tr>\n",
       "    <tr>\n",
       "      <th>2021-03-18 00:00:00-04:00</th>\n",
       "      <td>113.32</td>\n",
       "      <td>113.8600</td>\n",
       "      <td>113.2000</td>\n",
       "      <td>113.42</td>\n",
       "      <td>6077516</td>\n",
       "      <td>-0.003952</td>\n",
       "      <td>394.475</td>\n",
       "      <td>396.720</td>\n",
       "      <td>390.75</td>\n",
       "      <td>391.41</td>\n",
       "      <td>98794050</td>\n",
       "      <td>-0.014627</td>\n",
       "    </tr>\n",
       "    <tr>\n",
       "      <th>2021-03-19 00:00:00-04:00</th>\n",
       "      <td>113.40</td>\n",
       "      <td>113.5400</td>\n",
       "      <td>113.3300</td>\n",
       "      <td>113.50</td>\n",
       "      <td>4674852</td>\n",
       "      <td>0.000705</td>\n",
       "      <td>389.880</td>\n",
       "      <td>391.569</td>\n",
       "      <td>387.15</td>\n",
       "      <td>389.50</td>\n",
       "      <td>93819590</td>\n",
       "      <td>-0.004880</td>\n",
       "    </tr>\n",
       "    <tr>\n",
       "      <th>2021-03-22 00:00:00-04:00</th>\n",
       "      <td>113.70</td>\n",
       "      <td>113.8000</td>\n",
       "      <td>113.6022</td>\n",
       "      <td>113.75</td>\n",
       "      <td>5321817</td>\n",
       "      <td>0.002203</td>\n",
       "      <td>390.030</td>\n",
       "      <td>394.070</td>\n",
       "      <td>389.97</td>\n",
       "      <td>392.54</td>\n",
       "      <td>61372559</td>\n",
       "      <td>0.007805</td>\n",
       "    </tr>\n",
       "    <tr>\n",
       "      <th>2021-03-23 00:00:00-04:00</th>\n",
       "      <td>113.89</td>\n",
       "      <td>114.0400</td>\n",
       "      <td>113.7700</td>\n",
       "      <td>114.04</td>\n",
       "      <td>5022944</td>\n",
       "      <td>0.002549</td>\n",
       "      <td>391.910</td>\n",
       "      <td>393.460</td>\n",
       "      <td>388.66</td>\n",
       "      <td>389.59</td>\n",
       "      <td>78167035</td>\n",
       "      <td>-0.007515</td>\n",
       "    </tr>\n",
       "  </tbody>\n",
       "</table>\n",
       "</div>"
      ],
      "text/plain": [
       "                              AGG                                       \\\n",
       "                             open      high       low   close   volume   \n",
       "time                                                                     \n",
       "2021-03-17 00:00:00-04:00  113.55  113.9778  113.4800  113.87  5023810   \n",
       "2021-03-18 00:00:00-04:00  113.32  113.8600  113.2000  113.42  6077516   \n",
       "2021-03-19 00:00:00-04:00  113.40  113.5400  113.3300  113.50  4674852   \n",
       "2021-03-22 00:00:00-04:00  113.70  113.8000  113.6022  113.75  5321817   \n",
       "2021-03-23 00:00:00-04:00  113.89  114.0400  113.7700  114.04  5022944   \n",
       "\n",
       "                                            SPY                           \\\n",
       "                          daily_return     open     high     low   close   \n",
       "time                                                                       \n",
       "2021-03-17 00:00:00-04:00          NaN  394.530  398.120  393.30  397.22   \n",
       "2021-03-18 00:00:00-04:00    -0.003952  394.475  396.720  390.75  391.41   \n",
       "2021-03-19 00:00:00-04:00     0.000705  389.880  391.569  387.15  389.50   \n",
       "2021-03-22 00:00:00-04:00     0.002203  390.030  394.070  389.97  392.54   \n",
       "2021-03-23 00:00:00-04:00     0.002549  391.910  393.460  388.66  389.59   \n",
       "\n",
       "                                                  \n",
       "                             volume daily_return  \n",
       "time                                              \n",
       "2021-03-17 00:00:00-04:00  61876016          NaN  \n",
       "2021-03-18 00:00:00-04:00  98794050    -0.014627  \n",
       "2021-03-19 00:00:00-04:00  93819590    -0.004880  \n",
       "2021-03-22 00:00:00-04:00  61372559     0.007805  \n",
       "2021-03-23 00:00:00-04:00  78167035    -0.007515  "
      ]
     },
     "execution_count": 472,
     "metadata": {},
     "output_type": "execute_result"
    }
   ],
   "source": [
    "# Configure a Monte Carlo simulation to forecast 10 years cumulative returns\n",
    "# The weights should be split 20% to AGG and 80% to SPY.\n",
    "# Run 500 samples.\n",
    "MC_weighted = MCSimulation(\n",
    "  portfolio_data = prices_df,\n",
    "  weights = [.20,.80],\n",
    "  num_simulation = 500,\n",
    "  num_trading_days = 252*10\n",
    ")\n",
    "\n",
    "# Review the simulation input data\n",
    "MC_weighted.portfolio_data.head()\n"
   ]
  },
  {
   "cell_type": "code",
   "execution_count": 473,
   "metadata": {},
   "outputs": [
    {
     "name": "stdout",
     "output_type": "stream",
     "text": [
      "Running Monte Carlo simulation number 0.\n",
      "Running Monte Carlo simulation number 10.\n",
      "Running Monte Carlo simulation number 20.\n",
      "Running Monte Carlo simulation number 30.\n",
      "Running Monte Carlo simulation number 40.\n",
      "Running Monte Carlo simulation number 50.\n",
      "Running Monte Carlo simulation number 60.\n",
      "Running Monte Carlo simulation number 70.\n",
      "Running Monte Carlo simulation number 80.\n",
      "Running Monte Carlo simulation number 90.\n",
      "Running Monte Carlo simulation number 100.\n"
     ]
    },
    {
     "name": "stderr",
     "output_type": "stream",
     "text": [
      "/Users/ejbraggs/Desktop/Module-5-Challenge/Module-5-Challenge/Starter_Code/MCForecastTools.py:117: PerformanceWarning: DataFrame is highly fragmented.  This is usually the result of calling `frame.insert` many times, which has poor performance.  Consider joining all columns at once using pd.concat(axis=1) instead.  To get a de-fragmented frame, use `newframe = frame.copy()`\n",
      "  portfolio_cumulative_returns[n] = (1 + sim_df.fillna(0)).cumprod()\n"
     ]
    },
    {
     "name": "stdout",
     "output_type": "stream",
     "text": [
      "Running Monte Carlo simulation number 110.\n",
      "Running Monte Carlo simulation number 120.\n",
      "Running Monte Carlo simulation number 130.\n",
      "Running Monte Carlo simulation number 140.\n",
      "Running Monte Carlo simulation number 150.\n",
      "Running Monte Carlo simulation number 160.\n",
      "Running Monte Carlo simulation number 170.\n",
      "Running Monte Carlo simulation number 180.\n",
      "Running Monte Carlo simulation number 190.\n",
      "Running Monte Carlo simulation number 200.\n",
      "Running Monte Carlo simulation number 210.\n",
      "Running Monte Carlo simulation number 220.\n",
      "Running Monte Carlo simulation number 230.\n",
      "Running Monte Carlo simulation number 240.\n",
      "Running Monte Carlo simulation number 250.\n",
      "Running Monte Carlo simulation number 260.\n",
      "Running Monte Carlo simulation number 270.\n",
      "Running Monte Carlo simulation number 280.\n",
      "Running Monte Carlo simulation number 290.\n",
      "Running Monte Carlo simulation number 300.\n",
      "Running Monte Carlo simulation number 310.\n",
      "Running Monte Carlo simulation number 320.\n",
      "Running Monte Carlo simulation number 330.\n",
      "Running Monte Carlo simulation number 340.\n",
      "Running Monte Carlo simulation number 350.\n",
      "Running Monte Carlo simulation number 360.\n",
      "Running Monte Carlo simulation number 370.\n",
      "Running Monte Carlo simulation number 380.\n",
      "Running Monte Carlo simulation number 390.\n",
      "Running Monte Carlo simulation number 400.\n",
      "Running Monte Carlo simulation number 410.\n",
      "Running Monte Carlo simulation number 420.\n",
      "Running Monte Carlo simulation number 430.\n",
      "Running Monte Carlo simulation number 440.\n",
      "Running Monte Carlo simulation number 450.\n",
      "Running Monte Carlo simulation number 460.\n",
      "Running Monte Carlo simulation number 470.\n",
      "Running Monte Carlo simulation number 480.\n",
      "Running Monte Carlo simulation number 490.\n"
     ]
    }
   ],
   "source": [
    "# Run the Monte Carlo simulation to forecast 10 years cumulative returns\n",
    "mc_stats2 = MC_weighted.summarize_cumulative_return()"
   ]
  },
  {
   "cell_type": "code",
   "execution_count": 474,
   "metadata": {},
   "outputs": [
    {
     "data": {
      "text/plain": [
       "<AxesSubplot:title={'center':'500 Simulations of Cumulative Portfolio Return Trajectories Over the Next 2520 Trading Days.'}>"
      ]
     },
     "execution_count": 474,
     "metadata": {},
     "output_type": "execute_result"
    },
    {
     "data": {
      "image/png": "[encoded data removed]",
      "text/plain": [
       "<Figure size 432x288 with 1 Axes>"
      ]
     },
     "metadata": {
      "needs_background": "light"
     },
     "output_type": "display_data"
    }
   ],
   "source": [
    "# Visualize the 10-year Monte Carlo simulation by creating an\n",
    "# overlay line plot\n",
    "MC_weighted.plot_simulation()\n"
   ]
  },
  {
   "cell_type": "code",
   "execution_count": 475,
   "metadata": {},
   "outputs": [
    {
     "data": {
      "text/plain": [
       "<AxesSubplot:title={'center':'Distribution of Final Cumuluative Returns Across All 500 Simulations'}, ylabel='Frequency'>"
      ]
     },
     "execution_count": 475,
     "metadata": {},
     "output_type": "execute_result"
    },
    {
     "data": {
      "image/png": "[encoded data removed]",
      "text/plain": [
       "<Figure size 432x288 with 1 Axes>"
      ]
     },
     "metadata": {
      "needs_background": "light"
     },
     "output_type": "display_data"
    }
   ],
   "source": [
    "# Visualize the probability distribution of the 10-year Monte Carlo simulation \n",
    "# by plotting a histogram\n",
    "MC_weighted.plot_distribution()\n"
   ]
  },
  {
   "cell_type": "code",
   "execution_count": 476,
   "metadata": {},
   "outputs": [
    {
     "name": "stdout",
     "output_type": "stream",
     "text": [
      "count           500.000000\n",
      "mean             10.458545\n",
      "std               3.180836\n",
      "min               4.966451\n",
      "25%               8.069157\n",
      "50%               9.686347\n",
      "75%              12.426638\n",
      "max              25.622913\n",
      "95% CI Lower      5.887891\n",
      "95% CI Upper     17.874711\n",
      "Name: 2520, dtype: float64\n"
     ]
    }
   ],
   "source": [
    "# Generate summary statistics from the 10-year Monte Carlo simulation results\n",
    "# Save the results as a variable\n",
    "mc_stats2 = MC_weighted.summarize_cumulative_return()\n",
    "\n",
    "\n",
    "# Review the 10-year Monte Carlo summary statistics\n",
    "print(mc_stats2)"
   ]
  },
  {
   "cell_type": "markdown",
   "metadata": {},
   "source": [
    "### Answer the following questions:"
   ]
  },
  {
   "cell_type": "markdown",
   "metadata": {},
   "source": [
    "#### Question: Using the current value of only the stock and bond portion of the member's portfolio and the summary statistics that you generated from the new Monte Carlo simulation, what are the lower and upper bounds for the expected value of the portfolio (with the new weights) with a 95% confidence interval?"
   ]
  },
  {
   "cell_type": "code",
   "execution_count": 477,
   "metadata": {},
   "outputs": [
    {
     "name": "stdout",
     "output_type": "stream",
     "text": [
      "this is the current balance of the entire portfolio $ 60689.50\n"
     ]
    }
   ],
   "source": [
    "# Print the current balance of the stock and bond portion of the members portfolio\n",
    "print(f\"this is the current balance of the entire portfolio ${total_stocks_bonds: .2f}\")\n"
   ]
  },
  {
   "cell_type": "code",
   "execution_count": 478,
   "metadata": {},
   "outputs": [
    {
     "name": "stdout",
     "output_type": "stream",
     "text": [
      "There is a 95% chance that an initial investment of $ 60689.50 over the next 10 years will end within in the range of$ 357333.14 and $ 1084807.26.\n"
     ]
    }
   ],
   "source": [
    "# Use the lower and upper `95%` confidence intervals to calculate the range of the possible outcomes for the current stock/bond portfolio\n",
    "ci_lower_ten_cumulative_return = mc_stats2[8] * total_stocks_bonds\n",
    "ci_upper_ten_cumulative_return = mc_stats2[9] * total_stocks_bonds\n",
    "\n",
    "# Print the result of your calculations\n",
    "print(f\"There is a 95% chance that an initial investment of ${total_stocks_bonds: .2f}\" f\" over the next 10 years will end within in the range of\" f\"${ci_lower_ten_cumulative_return: .2f} and ${ci_upper_ten_cumulative_return: .2f}.\")\n",
    "\n"
   ]
  },
  {
   "cell_type": "markdown",
   "metadata": {},
   "source": [
    "#### Question: Will weighting the portfolio more heavily to stocks allow the credit union members to retire after only 10 years?"
   ]
  },
  {
   "cell_type": "code",
   "execution_count": 479,
   "metadata": {},
   "outputs": [
    {
     "data": {
      "text/plain": [
       "29.777761692182423"
      ]
     },
     "execution_count": 479,
     "metadata": {},
     "output_type": "execute_result"
    }
   ],
   "source": [
    "ci_lower_ten_cumulative_return / monthly_income # calculating until the well runs dry w/ current montly expenses on the low end of simulate 10 year cumlative returns"
   ]
  },
  {
   "cell_type": "code",
   "execution_count": 480,
   "metadata": {},
   "outputs": [
    {
     "data": {
      "text/plain": [
       "90.4006048223755"
      ]
     },
     "execution_count": 480,
     "metadata": {},
     "output_type": "execute_result"
    }
   ],
   "source": [
    "ci_upper_ten_cumulative_return / monthly_income # calculating until the well runs dry w/ current montly expenses on the high end of simulate 10 year cumlative returns"
   ]
  },
  {
   "cell_type": "raw",
   "metadata": {},
   "source": [
    "**Answer**\n",
    "\n",
    "It is very unlikey for the client to retire after 10 years. \n",
    "On the low end there's a 95% chance they would only be able to live for about 29 months and on the high end a 95% chance of having enough for 90 months.\n",
    "So between 2 - 7.5 years. Whihc isn't enough for most people to live off of if that's their only stream of income.\n",
    "This doesn't take into account inflation or any unexpected events throughout life.\n"
   ]
  },
  {
   "cell_type": "code",
   "execution_count": null,
   "metadata": {},
   "outputs": [],
   "source": []
  }
 ],
 "metadata": {
  "interpreter": {
   "hash": "f0e427bb6dc94352435d28a2f7ff8bf30d09861f665813a61df9e57b52ad45a5"
  },
  "kernelspec": {
   "display_name": "Python [conda env:blended]",
   "language": "python",
   "name": "python3"
  },
  "language_info": {
   "codemirror_mode": {
    "name": "ipython",
    "version": 3
   },
   "file_extension": ".py",
   "mimetype": "text/x-python",
   "name": "python",
   "nbconvert_exporter": "python",
   "pygments_lexer": "ipython3",
   "version": "3.9.7"
  }
 },
 "nbformat": 4,
 "nbformat_minor": 4
}
